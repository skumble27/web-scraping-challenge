{
 "metadata": {
  "language_info": {
   "codemirror_mode": {
    "name": "ipython",
    "version": 3
   },
   "file_extension": ".py",
   "mimetype": "text/x-python",
   "name": "python",
   "nbconvert_exporter": "python",
   "pygments_lexer": "ipython3",
   "version": "3.6.12-final"
  },
  "orig_nbformat": 2,
  "kernelspec": {
   "name": "webscraping",
   "display_name": "Python (webscraping)"
  }
 },
 "nbformat": 4,
 "nbformat_minor": 2,
 "cells": [
  {
   "source": [
    "# Web Scraping Homework - Mission to Mars"
   ],
   "cell_type": "markdown",
   "metadata": {}
  },
  {
   "source": [
    "# Importing the relevant modules and packages\n",
    "from splinter import Browser\n",
    "from bs4 import BeautifulSoup\n",
    "import pandas as pd\n",
    "import time"
   ],
   "cell_type": "code",
   "metadata": {},
   "execution_count": null,
   "outputs": []
  },
  {
   "cell_type": "code",
   "execution_count": null,
   "metadata": {},
   "outputs": [],
   "source": [
    "# User log in for Windows Users\n",
    "executable_path = {'executable_path': 'chromedriver.exe'}\n",
    "browser = Browser('chrome', **executable_path, headless=False)"
   ]
  },
  {
   "cell_type": "code",
   "execution_count": null,
   "metadata": {},
   "outputs": [],
   "source": [
    "# URL to visit\n",
    "url = 'https://mars.nasa.gov/news/'\n",
    "\n",
    "# Browser Engine to load the URL\n",
    "browser.visit(url)"
   ]
  },
  {
   "source": [
    "# NASA Mars News"
   ],
   "cell_type": "markdown",
   "metadata": {}
  },
  {
   "cell_type": "code",
   "execution_count": null,
   "metadata": {},
   "outputs": [],
   "source": [
    "# Setting up the html\n",
    "html = browser.html\n",
    "\n",
    "# Parsing with BeautifulSoup\n",
    "soup = BeautifulSoup(html, 'html.parser')\n",
    "\n",
    "\n"
   ]
  },
  {
   "cell_type": "code",
   "execution_count": null,
   "metadata": {
    "tags": []
   },
   "outputs": [],
   "source": [
    "# Creating a variable for the first news title\n",
    "news_title = soup.find_all('div', class_='content_title')[1].text\n",
    "\n",
    "# Obtaining the body of the artile\n",
    "try:\n",
    "    news_p = soup.find_all('div', class_='article_teaser_body')[0].text\n",
    "except(IndexError):\n",
    "    print('Index error, retrying web parsing')\n",
    "    time.sleep(10)\n",
    "    # Setting up the html\n",
    "    html = browser.html\n",
    "\n",
    "    # Parsing with BeautifulSoup\n",
    "    soup = BeautifulSoup(html, 'html.parser')\n",
    "    news_p = soup.find_all('div', class_='article_teaser_body')[0].text\n",
    "\n",
    "print('Retry successfull')\n",
    "\n",
    "\n",
    "\n"
   ]
  },
  {
   "cell_type": "code",
   "execution_count": null,
   "metadata": {},
   "outputs": [],
   "source": [
    "# Output for Web Parsing\n",
    "print(f'Headline:\\n{news_title}\\n__________________________\\n\\nBody of Article:\\n{news_p}')\n",
    "\n",
    "browser.quit()"
   ]
  },
  {
   "source": [
    "# JPL Mars Space Images - Featured Image"
   ],
   "cell_type": "markdown",
   "metadata": {}
  },
  {
   "cell_type": "code",
   "execution_count": null,
   "metadata": {},
   "outputs": [],
   "source": [
    "# User log in for Windows Users\n",
    "executable_path = {'executable_path': 'chromedriver.exe'}\n",
    "browser = Browser('chrome', **executable_path, headless=False)"
   ]
  },
  {
   "cell_type": "code",
   "execution_count": null,
   "metadata": {},
   "outputs": [],
   "source": [
    "# URL to visit\n",
    "fi_url = 'https://www.jpl.nasa.gov/spaceimages/?search=&category=Mars'\n",
    "\n",
    "# Browser Engine to load the URL\n",
    "browser.visit(fi_url)"
   ]
  },
  {
   "cell_type": "code",
   "execution_count": null,
   "metadata": {},
   "outputs": [],
   "source": [
    "# Setting up the html\n",
    "fi_html = browser.html\n",
    "\n",
    "# Parsing with BeautifulSoup\n",
    "fi_soup = BeautifulSoup(fi_html, 'html.parser')\n",
    "\n",
    "# Base URL for Image\n",
    "base_url = 'https://www.jpl.nasa.gov'\n",
    "\n",
    "# Pausing for 10 seconds\n",
    "time.sleep(10)"
   ]
  },
  {
   "cell_type": "code",
   "execution_count": null,
   "metadata": {
    "tags": []
   },
   "outputs": [],
   "source": [
    "# Obtaining the featured image\n",
    "featured_image_pre = fi_soup.find('article', class_='carousel_item')['style'].strip('background-image: url') #Strip will remove these characters which are not required for the URL\n",
    "featured_image_pre"
   ]
  },
  {
   "cell_type": "code",
   "execution_count": null,
   "metadata": {},
   "outputs": [],
   "source": [
    "# Since we stil have the apostrophes and circle brackets within the strings, these will also need to be removed\n",
    "start = featured_image_pre.find(\"('\") + len(\"('\")\n",
    "end = featured_image_pre.find(\"')\")\n",
    "substring = featured_image_pre[start:end]\n",
    "print(substring)"
   ]
  },
  {
   "cell_type": "code",
   "execution_count": null,
   "metadata": {},
   "outputs": [],
   "source": [
    "# Featured Image URL\n",
    "# As the Featured Image keeps changing on the website, the URL will be updated accordingly \n",
    "browser.quit()\n",
    "featured_image = base_url + substring\n",
    "featured_image"
   ]
  },
  {
   "source": [
    "# Mars Facts"
   ],
   "cell_type": "markdown",
   "metadata": {}
  },
  {
   "cell_type": "code",
   "execution_count": null,
   "metadata": {},
   "outputs": [],
   "source": [
    "# Establishing the URL\n",
    "table_url = 'https://space-facts.com/mars/'\n",
    "\n",
    "# Data Frame for tables\n",
    "table_df = pd.read_html(table_url)\n"
   ]
  },
  {
   "cell_type": "code",
   "execution_count": null,
   "metadata": {},
   "outputs": [],
   "source": [
    "# Viewing the tables\n",
    "table_df"
   ]
  },
  {
   "cell_type": "code",
   "execution_count": null,
   "metadata": {},
   "outputs": [],
   "source": [
    "# Seperating the tables\n",
    "mars_profile_1 = table_df[0]\n",
    "mars_profile = mars_profile_1.rename(columns={0:'Description',1:'Value'}).set_index('Description')\n",
    "mars_profile"
   ]
  },
  {
   "cell_type": "code",
   "execution_count": null,
   "metadata": {},
   "outputs": [],
   "source": [
    "# Second Table comparing Mars to Earth\n",
    "mars_vs_earth = table_df[1].set_index('Mars - Earth Comparison')\n",
    "mars_vs_earth"
   ]
  },
  {
   "cell_type": "code",
   "execution_count": null,
   "metadata": {},
   "outputs": [],
   "source": [
    "# Exporting the tables back to html\n",
    "mars_profile.to_html('../Resources/mars_profile.html')\n",
    "\n",
    "mars_vs_earth.to_html('../Resources/mars_vs_earth.html')"
   ]
  },
  {
   "source": [
    "# Mars Hemispheres"
   ],
   "cell_type": "markdown",
   "metadata": {}
  },
  {
   "cell_type": "code",
   "execution_count": null,
   "metadata": {},
   "outputs": [],
   "source": [
    "# User log in for Windows Users\n",
    "executable_path = {'executable_path': 'chromedriver.exe'}\n",
    "browser = Browser('chrome', **executable_path, headless=False)"
   ]
  },
  {
   "cell_type": "code",
   "execution_count": null,
   "metadata": {},
   "outputs": [],
   "source": [
    "# New URL to retreive the featured image\n",
    "img_url = 'https://astrogeology.usgs.gov/search/results?q=hemisphere+enhanced&k1=target&v1=Mars'\n",
    "\n",
    "# New Browser Option\n",
    "img_browser = browser.visit(img_url)"
   ]
  },
  {
   "cell_type": "code",
   "execution_count": null,
   "metadata": {},
   "outputs": [],
   "source": [
    "# Setting up the HTML for images\n",
    "img_html = browser.html\n",
    "\n",
    "# Setting up Beautiful Soup to obtain images\n",
    "img_soup = BeautifulSoup(img_html, 'html.parser')\n",
    "\n",
    "# Creating lists to append the data\n",
    "title_name = []\n",
    "\n",
    "# Setting up a web query\n",
    "results = img_soup.find_all('div', class_='description')\n",
    "\n",
    "# Iterating through the site to append the lists\n",
    "for result in results:\n",
    "    h3 = result.find('h3').text\n",
    "    print(h3)\n",
    "    title_name.append(h3)\n",
    "\n",
    "browser.quit()\n",
    "    "
   ]
  },
  {
   "cell_type": "code",
   "execution_count": null,
   "metadata": {},
   "outputs": [],
   "source": [
    "# Creating a dictionary with links to images\n",
    "hemisphere_image_urls = [\n",
    "    {'Title':title_name[0],\"img_url\":'https://astropedia.astrogeology.usgs.gov/download/Mars/Viking/cerberus_enhanced.tif'},\n",
    "    \n",
    "    {'Title':title_name[1],\"img_url\":'https://astropedia.astrogeology.usgs.gov/download/Mars/Viking/schiaparelli_enhanced.tif' },\n",
    "\n",
    "    {'Title':title_name[2],\"img_url\":'https://astropedia.astrogeology.usgs.gov/download/Mars/Viking/syrtis_major_enhanced.tif'},\n",
    "\n",
    "    {'Title':title_name[3],\"img_url\":'https://astropedia.astrogeology.usgs.gov/download/Mars/Viking/valles_marineris_enhanced.tif'}\n",
    "]"
   ]
  },
  {
   "cell_type": "code",
   "execution_count": null,
   "metadata": {},
   "outputs": [],
   "source": [
    "hemisphere_image_urls"
   ]
  },
  {
   "cell_type": "code",
   "execution_count": null,
   "metadata": {},
   "outputs": [],
   "source": []
  }
 ]
}